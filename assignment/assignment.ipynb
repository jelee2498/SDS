{
 "cells": [
  {
   "cell_type": "code",
   "execution_count": null,
   "metadata": {
    "id": "zZmVx58xxS60"
   },
   "outputs": [],
   "source": [
    "from typing import Union, Tuple\n",
    "import itertools\n",
    "from pathlib import Path\n",
    "import matplotlib.pyplot as plt\n",
    "import numpy as np\n",
    "import pandas as pd\n",
    "from tqdm import tqdm\n",
    "import cv2\n",
    "from sklearn.metrics import confusion_matrix"
   ]
  },
  {
   "cell_type": "markdown",
   "metadata": {
    "id": "TwhP0i6m0HEO"
   },
   "source": [
    "### Google Drive Mount (Optional)\n",
    "Remove the following code if you do not want to use the Google Drive."
   ]
  },
  {
   "cell_type": "code",
   "execution_count": null,
   "metadata": {
    "colab": {
     "base_uri": "https://localhost:8080/",
     "height": 548
    },
    "id": "Q-nu4P86z5eW",
    "outputId": "1948f10a-705b-469b-8eb1-a65d8860c508"
   },
   "outputs": [],
   "source": [
    "if not Path('/content/drive/My Drive/').exists():\n",
    "    from google.colab import drive\n",
    "    drive.mount('/content/drive')"
   ]
  },
  {
   "cell_type": "markdown",
   "metadata": {
    "id": "eH7MV7D9_lKO"
   },
   "source": [
    "### Assignment 0: Path Configuration\n",
    "Configure ```data_path``` properly to load the dataset.\n"
   ]
  },
  {
   "cell_type": "code",
   "execution_count": null,
   "metadata": {
    "id": "X8MC5b7txfPI"
   },
   "outputs": [],
   "source": [
    "#------------------------------------------WRITE YOUR CODE------------------------------------------#\n",
    "data_path = Path.cwd()\n",
    "#------------------------------------------END OF YOUR CODE-----------------------------------------#\n",
    "if not data_path.exists():\n",
    "    raise FileNotFoundError(f'Invalid data path {data_path}')"
   ]
  },
  {
   "cell_type": "markdown",
   "metadata": {
    "id": "ichspBPxxpzh"
   },
   "source": [
    "### Extract the dataset"
   ]
  },
  {
   "cell_type": "code",
   "execution_count": null,
   "metadata": {
    "colab": {
     "base_uri": "https://localhost:8080/"
    },
    "id": "rvP3tPtlxoj5",
    "outputId": "b0ec5ee5-4dd9-48fb-fb30-d66adf52715e"
   },
   "outputs": [],
   "source": [
    "if not Path('/dataset').exists():\n",
    "    import zipfile\n",
    "    with zipfile.ZipFile(data_path / 'dataset.zip', 'r') as f:\n",
    "        f.extractall('/dataset')\n",
    "    print('Successfully extracted dataset.zip')\n",
    "\n",
    "data_path = Path('/dataset')"
   ]
  },
  {
   "cell_type": "markdown",
   "metadata": {
    "id": "tFT2Q6nk6Sj7"
   },
   "source": [
    "### Split the dataset into training and test set"
   ]
  },
  {
   "cell_type": "code",
   "execution_count": null,
   "metadata": {
    "id": "UQUIH9-VyFPT"
   },
   "outputs": [],
   "source": [
    "training_metadata = pd.read_csv(data_path / 'train_metadata.csv', index_col=0, encoding='utf-8', engine='python', dtype={'path': str, 'directory': int, 'sex': int, 'width': int, 'height': int})\n",
    "test_metadata = pd.read_csv(data_path / 'test_metadata.csv', index_col=0, encoding='utf-8', engine='python', dtype={'path': str, 'directory': int, 'sex': int, 'width': int, 'height': int})"
   ]
  },
  {
   "cell_type": "code",
   "execution_count": null,
   "metadata": {
    "colab": {
     "base_uri": "https://localhost:8080/",
     "height": 452
    },
    "id": "FtfdR725yahq",
    "outputId": "5f9edd86-48d7-499a-da82-53b26effe73f"
   },
   "outputs": [],
   "source": [
    "training_metadata"
   ]
  },
  {
   "cell_type": "code",
   "execution_count": null,
   "metadata": {
    "colab": {
     "base_uri": "https://localhost:8080/",
     "height": 452
    },
    "id": "P8vRXUJhyb0J",
    "outputId": "4b7a814e-94b7-453c-88fe-f65e2d5eefbe"
   },
   "outputs": [],
   "source": [
    "test_metadata"
   ]
  },
  {
   "cell_type": "markdown",
   "metadata": {
    "id": "eia_2Sl_9A-Z"
   },
   "source": [
    "### Preprocess the input images"
   ]
  },
  {
   "cell_type": "markdown",
   "metadata": {
    "id": "5ejH9i5DKiec"
   },
   "source": [
    "### Assignment 1: Tune HOG descriptor parameters\n",
    "You should find optimal parameters to maximize the performance of the classifier."
   ]
  },
  {
   "cell_type": "code",
   "execution_count": null,
   "metadata": {
    "id": "KufPRKynyhWj"
   },
   "outputs": [],
   "source": [
    "#--------------------------------------WRITE YOUR CODE--------------------------------------#\n",
    "hog = cv2.HOGDescriptor((64,64), (16,16), (16,16), (8,8), 8)\n",
    "# (winSize=(64, 64), blockSize=(16, 16), blockStride=(16, 16), cellSize=(8, 8), nBins=8)\n",
    "# hog.winSize = (64, 64)\n",
    "# hog.blockSize = (16, 16)\n",
    "# hog.blockStride = (16, 16)\n",
    "# hog.cellSize = (8, 8)\n",
    "# hog.nBins = 8\n",
    "#--------------------------------------END OF YOUR CODE-------------------------------------#"
   ]
  },
  {
   "cell_type": "markdown",
   "metadata": {
    "id": "2NLGhaGXzNwb"
   },
   "source": [
    "### Assignment 2: Load an image\n",
    "You should read the image as grayscale and resize it to $64\\times64$. Use cv2.imread() and cv2.resize()."
   ]
  },
  {
   "cell_type": "code",
   "execution_count": null,
   "metadata": {
    "id": "TgZI4dUUyjs5"
   },
   "outputs": [],
   "source": [
    "def load_image(name: Union[Path, str]) -> np.ndarray:\n",
    "    filename = str(data_path / name)\n",
    "    #--------------------------------------WRITE YOUR CODE--------------------------------------#\n",
    "    img = \n",
    "    #--------------------------------------END OF YOUR CODE-------------------------------------#\n",
    "    return img"
   ]
  },
  {
   "cell_type": "markdown",
   "metadata": {
    "id": "1pgjshuV8T1q"
   },
   "source": [
    "### Assignment 3: Extract features from the image\n",
    "Use the HOG extractor ```hog``` to extract features from the given image. You need to flatten the features so that it returns one-dimensional array with the shape of (512,)."
   ]
  },
  {
   "cell_type": "code",
   "execution_count": null,
   "metadata": {
    "id": "_Kibvw1m8TZ8"
   },
   "outputs": [],
   "source": [
    "def extract_features(img: np.ndarray, hog: cv2.HOGDescriptor) -> np.ndarray:\n",
    "    #--------------------------------------WRITE YOUR CODE--------------------------------------#\n",
    "    features = \n",
    "    #--------------------------------------END OF YOUR CODE-------------------------------------#\n",
    "    return features"
   ]
  },
  {
   "cell_type": "code",
   "execution_count": null,
   "metadata": {
    "id": "FnyvSMhrz99k"
   },
   "outputs": [],
   "source": [
    "def preprocess_images(metadata: pd.DataFrame) -> Tuple[np.ndarray, np.ndarray]:\n",
    "    n_total = metadata.shape[0]\n",
    "    inputs = np.empty((n_total, 512), dtype=float)\n",
    "    outputs = np.empty((n_total,), dtype=int)\n",
    "    with tqdm(desc='Processing', total=n_total) as pbar:\n",
    "        for i, (name, row) in enumerate(metadata.iterrows()):\n",
    "            inputs[i, :] = extract_features(load_image(name), hog)\n",
    "            outputs[i] = row['sex']\n",
    "            pbar.update(1)\n",
    "    return inputs, outputs"
   ]
  },
  {
   "cell_type": "code",
   "execution_count": null,
   "metadata": {
    "colab": {
     "base_uri": "https://localhost:8080/"
    },
    "id": "v60beT8b0Zi8",
    "outputId": "41bd8adf-67aa-452e-e249-e2b3c7f80a00"
   },
   "outputs": [],
   "source": [
    "train_x, train_y = preprocess_images(training_metadata)"
   ]
  },
  {
   "cell_type": "code",
   "execution_count": null,
   "metadata": {
    "colab": {
     "base_uri": "https://localhost:8080/"
    },
    "id": "Yr6ZQhu40ZyT",
    "outputId": "5b361887-8a9c-4c24-b7dd-7e6ed9109b7c"
   },
   "outputs": [],
   "source": [
    "test_x, test_y = preprocess_images(test_metadata)"
   ]
  },
  {
   "cell_type": "markdown",
   "metadata": {
    "id": "jnyB6ENGbM-3"
   },
   "source": [
    "### Assignment 4: Train the classifier\n",
    "You should train the ```classifier``` (e.g. SVM, decision tree, ...). To implement the classifier, use SVC(), RandomForestClassifier(), and so on."
   ]
  },
  {
   "cell_type": "code",
   "execution_count": null,
   "metadata": {
    "colab": {
     "base_uri": "https://localhost:8080/"
    },
    "id": "o3AA9zs50qDf",
    "outputId": "63f1c951-d6bc-4523-d1f9-e93a012f5ec5"
   },
   "outputs": [],
   "source": [
    "from sklearn.svm import SVC\n",
    "from sklearn.ensemble import RandomForestClassifier\n",
    "from sklearn.neighbors import KNeighborsClassifier\n",
    "\n",
    "#------------------------------------------WRITE YOUR CODE------------------------------------------#\n",
    "classifier = \n",
    "#------------------------------------------END OF YOUR CODE-----------------------------------------#\n",
    "classifier.fit(train_x, train_y)"
   ]
  },
  {
   "cell_type": "markdown",
   "metadata": {
    "id": "7xBqbl2S5Tfh"
   },
   "source": [
    "### Result: Visualization of Confusion Matrix"
   ]
  },
  {
   "cell_type": "code",
   "execution_count": null,
   "metadata": {
    "id": "bgbC2Bkj3_g5"
   },
   "outputs": [],
   "source": [
    "def plot_confusion_matrix(cm, classes,\n",
    "                          normalize=False,\n",
    "                          title='Confusion matrix',\n",
    "                          cmap=plt.cm.Blues):\n",
    "    \"\"\"\n",
    "    This function prints and plots the confusion matrix.\n",
    "    Normalization can be applied by setting `normalize=True`.\n",
    "    \"\"\"\n",
    "    accuracy = np.sum(cm * np.eye(cm.shape[0])) / np.sum(cm)\n",
    "    print(f'Accuracy: {accuracy}')\n",
    "    if normalize:\n",
    "        cm = cm.astype('float') / cm.sum(axis=1)[:, np.newaxis]\n",
    "        print(\"Normalized confusion matrix\")\n",
    "    else:\n",
    "        print('Confusion matrix, without normalization')\n",
    "\n",
    "    print(cm)\n",
    "\n",
    "    plt.imshow(cm, interpolation='nearest', cmap=cmap)\n",
    "    plt.title(title)\n",
    "    plt.colorbar()\n",
    "    tick_marks = np.arange(len(classes))\n",
    "    plt.xticks(tick_marks, classes, rotation=45)\n",
    "    plt.yticks(tick_marks, classes)\n",
    "\n",
    "    fmt = '.2f' if normalize else 'd'\n",
    "    thresh = cm.max() / 2.\n",
    "    for i, j in itertools.product(range(cm.shape[0]), range(cm.shape[1])):\n",
    "        plt.text(j, i, format(cm[i, j], fmt),\n",
    "                 horizontalalignment=\"center\",\n",
    "                 color=\"white\" if cm[i, j] > thresh else \"black\")\n",
    "\n",
    "    plt.ylabel('True label')\n",
    "    plt.xlabel('Predicted label')\n",
    "    plt.tight_layout()"
   ]
  },
  {
   "cell_type": "markdown",
   "metadata": {
    "id": "0tS6qCN05Z-I"
   },
   "source": [
    "Training Result"
   ]
  },
  {
   "cell_type": "code",
   "execution_count": null,
   "metadata": {
    "colab": {
     "base_uri": "https://localhost:8080/",
     "height": 368
    },
    "id": "oz6DtbOd5YCg",
    "outputId": "9dcd599a-0fc9-4656-f108-7ab19dede842"
   },
   "outputs": [],
   "source": [
    "pred_y = classifier.predict(train_x)\n",
    "plot_confusion_matrix(confusion_matrix(train_y, pred_y), classes=['Female', 'Male'])"
   ]
  },
  {
   "cell_type": "markdown",
   "metadata": {
    "id": "918rvQ3B5fhC"
   },
   "source": [
    "Test Result"
   ]
  },
  {
   "cell_type": "code",
   "execution_count": null,
   "metadata": {
    "colab": {
     "base_uri": "https://localhost:8080/",
     "height": 368
    },
    "id": "KFLHIiAb5hjY",
    "outputId": "e3c283ae-3035-48b2-d210-72013d79b7b5"
   },
   "outputs": [],
   "source": [
    "pred_y = classifier.predict(test_x)\n",
    "plot_confusion_matrix(confusion_matrix(test_y, pred_y), classes=['Female', 'Male'])"
   ]
  }
 ],
 "metadata": {
  "colab": {
   "collapsed_sections": [],
   "name": "exam.ipynb",
   "provenance": []
  },
  "kernelspec": {
   "display_name": "Python 3",
   "language": "python",
   "name": "python3"
  },
  "language_info": {
   "codemirror_mode": {
    "name": "ipython",
    "version": 3
   },
   "file_extension": ".py",
   "mimetype": "text/x-python",
   "name": "python",
   "nbconvert_exporter": "python",
   "pygments_lexer": "ipython3",
   "version": "3.7.0"
  }
 },
 "nbformat": 4,
 "nbformat_minor": 1
}
